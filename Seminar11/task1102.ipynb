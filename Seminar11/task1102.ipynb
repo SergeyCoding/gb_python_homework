{
 "cells": [
  {
   "cell_type": "markdown",
   "id": "7d8d9315",
   "metadata": {},
   "source": [
    "## Задача 2\n",
    "Имеются данные о площади и стоимости 15 домов.\n",
    "Риелтору требуется узнать в каких домах стоимость квадратного метра меньше 50000 рублей.\n",
    "Предоставьте ему графические данные о стоимости квадратного метра каждого дома и список подходящих ему домов, отсортированных по площади.\n",
    "Данные о домах сформируйте случайным образом. Площади от 100 до 300 кв. метров, цены от 3 до 20 млн."
   ]
  },
  {
   "cell_type": "code",
   "execution_count": null,
   "id": "fa5ad6d6",
   "metadata": {},
   "outputs": [],
   "source": []
  }
 ],
 "metadata": {
  "kernelspec": {
   "display_name": "Python 3.11.0 64-bit",
   "language": "python",
   "name": "python3"
  },
  "language_info": {
   "codemirror_mode": {
    "name": "ipython",
    "version": 3
   },
   "file_extension": ".py",
   "mimetype": "text/x-python",
   "name": "python",
   "nbconvert_exporter": "python",
   "pygments_lexer": "ipython3",
   "version": "3.11.0"
  },
  "vscode": {
   "interpreter": {
    "hash": "f0648f61aec2004aacd1371a44b305e5b419cb85017983a3ecbd84cb6b94fb1a"
   }
  }
 },
 "nbformat": 4,
 "nbformat_minor": 5
}
